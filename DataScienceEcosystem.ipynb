{
 "cells": [
  {
   "cell_type": "markdown",
   "id": "06ae80f2-8fa5-47d1-8377-81da2d2b32e3",
   "metadata": {},
   "source": [
    "# Data Science Tools and Ecosystem"
   ]
  },
  {
   "cell_type": "markdown",
   "id": "e1269689-9a8f-41cb-8381-4a3398f30636",
   "metadata": {},
   "source": [
    "In this notebook, Data Science Tools and Ecosystem are summarized."
   ]
  },
  {
   "cell_type": "markdown",
   "id": "92fbfbc0-c470-48ab-b90d-a21bc7edc32f",
   "metadata": {},
   "source": [
    "### Objectives:\n",
    "List popular languages for Data Science\n",
    "* Python\n",
    "* R\n",
    "* SQL\n",
    "* C++\n",
    "* Java"
   ]
  },
  {
   "cell_type": "markdown",
   "id": "5fbcbb2b-89d9-4c79-a00b-a441c6e27118",
   "metadata": {},
   "source": [
    "Some of the popular languages that Data Scientists use are:\n",
    "1. Python\n",
    "2. R\n",
    "3. SQL\n",
    "    "
   ]
  },
  {
   "cell_type": "markdown",
   "id": "d45f9fed-15e6-412b-b5ba-f469c52f8fe3",
   "metadata": {},
   "source": [
    "Some of the commonly used libraries used by Data Scientists include:\n",
    "1. Pandas\n",
    "2. NumPy\n",
    "3. TensorFlow"
   ]
  },
  {
   "cell_type": "markdown",
   "id": "8c2c628c-1447-48b6-b3fa-dd49d0774f3b",
   "metadata": {},
   "source": [
    "| Data Science Tools |\n",
    "| ------------------ |\n",
    "| Jupyter Lab        |\n",
    "| R Studio           |\n",
    "| Apache Zeepelin    |"
   ]
  },
  {
   "cell_type": "markdown",
   "id": "b5bc4e5b-722a-4abf-9f58-e6f0039ff535",
   "metadata": {
    "tags": []
   },
   "source": [
    "### Below are a few examples of evaluating arithmetic expressions in Python"
   ]
  },
  {
   "cell_type": "code",
   "execution_count": 4,
   "id": "d18209eb-21de-4b49-a406-8082b004f921",
   "metadata": {
    "tags": []
   },
   "outputs": [
    {
     "data": {
      "text/plain": [
       "17"
      ]
     },
     "execution_count": 4,
     "metadata": {},
     "output_type": "execute_result"
    }
   ],
   "source": [
    "# This a simple arithmetic expression to mutiply then add integers\n",
    "(3*4)+5"
   ]
  },
  {
   "cell_type": "code",
   "execution_count": 5,
   "id": "1cf3cf05-84e0-440c-a2b8-2317628692a4",
   "metadata": {
    "tags": []
   },
   "outputs": [
    {
     "data": {
      "text/plain": [
       "3.3333333333333335"
      ]
     },
     "execution_count": 5,
     "metadata": {},
     "output_type": "execute_result"
    }
   ],
   "source": [
    "# This will convert 200 minutes to hours by diving by 60\n",
    "200/60"
   ]
  },
  {
   "cell_type": "markdown",
   "id": "91d84bc5-b582-4626-a4ab-a1ded13c1736",
   "metadata": {},
   "source": [
    "## Author\n",
    "R.Durga Prasad"
   ]
  },
  {
   "cell_type": "code",
   "execution_count": null,
   "id": "301ccb0e-a404-4d4a-b21f-566f6a549dd0",
   "metadata": {},
   "outputs": [],
   "source": []
  }
 ],
 "metadata": {
  "kernelspec": {
   "display_name": "Python",
   "language": "python",
   "name": "conda-env-python-py"
  },
  "language_info": {
   "codemirror_mode": {
    "name": "ipython",
    "version": 3
   },
   "file_extension": ".py",
   "mimetype": "text/x-python",
   "name": "python",
   "nbconvert_exporter": "python",
   "pygments_lexer": "ipython3",
   "version": "3.7.12"
  }
 },
 "nbformat": 4,
 "nbformat_minor": 5
}
